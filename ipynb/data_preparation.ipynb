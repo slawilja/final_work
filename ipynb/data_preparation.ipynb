{
 "cells": [
  {
   "cell_type": "code",
   "execution_count": 1,
   "id": "d1827503",
   "metadata": {},
   "outputs": [],
   "source": [
    "import pandas as pd\n",
    "\n",
    "from datetime import datetime"
   ]
  },
  {
   "cell_type": "markdown",
   "id": "bfc3171c",
   "metadata": {},
   "source": [
    "# Data Preparation"
   ]
  },
  {
   "cell_type": "markdown",
   "id": "e10514bb",
   "metadata": {},
   "source": [
    "## 1. Обработка df_sessions"
   ]
  },
  {
   "cell_type": "code",
   "execution_count": 2,
   "id": "45abcdca",
   "metadata": {},
   "outputs": [
    {
     "name": "stderr",
     "output_type": "stream",
     "text": [
      "/tmp/ipykernel_7191/3108675389.py:1: DtypeWarning: Columns (1) have mixed types. Specify dtype option on import or set low_memory=False.\n",
      "  df_sessions = pd.read_csv('/home/slawilja/PycharmProjects/final_work/data/main_data/ga_sessions.csv')\n"
     ]
    },
    {
     "name": "stdout",
     "output_type": "stream",
     "text": [
      "(1860042, 18)\n"
     ]
    },
    {
     "data": {
      "text/html": [
       "<div>\n",
       "<style scoped>\n",
       "    .dataframe tbody tr th:only-of-type {\n",
       "        vertical-align: middle;\n",
       "    }\n",
       "\n",
       "    .dataframe tbody tr th {\n",
       "        vertical-align: top;\n",
       "    }\n",
       "\n",
       "    .dataframe thead th {\n",
       "        text-align: right;\n",
       "    }\n",
       "</style>\n",
       "<table border=\"1\" class=\"dataframe\">\n",
       "  <thead>\n",
       "    <tr style=\"text-align: right;\">\n",
       "      <th></th>\n",
       "      <th>session_id</th>\n",
       "      <th>client_id</th>\n",
       "      <th>visit_date</th>\n",
       "      <th>visit_time</th>\n",
       "      <th>visit_number</th>\n",
       "      <th>utm_source</th>\n",
       "      <th>utm_medium</th>\n",
       "      <th>utm_campaign</th>\n",
       "      <th>utm_adcontent</th>\n",
       "      <th>utm_keyword</th>\n",
       "      <th>device_category</th>\n",
       "      <th>device_os</th>\n",
       "      <th>device_brand</th>\n",
       "      <th>device_model</th>\n",
       "      <th>device_screen_resolution</th>\n",
       "      <th>device_browser</th>\n",
       "      <th>geo_country</th>\n",
       "      <th>geo_city</th>\n",
       "    </tr>\n",
       "  </thead>\n",
       "  <tbody>\n",
       "    <tr>\n",
       "      <th>0</th>\n",
       "      <td>9055434745589932991.1637753792.1637753792</td>\n",
       "      <td>2108382700.163776</td>\n",
       "      <td>2021-11-24</td>\n",
       "      <td>14:36:32</td>\n",
       "      <td>1</td>\n",
       "      <td>ZpYIoDJMcFzVoPFsHGJL</td>\n",
       "      <td>banner</td>\n",
       "      <td>LEoPHuyFvzoNfnzGgfcd</td>\n",
       "      <td>vCIpmpaGBnIQhyYNkXqp</td>\n",
       "      <td>puhZPIYqKXeFPaUviSjo</td>\n",
       "      <td>mobile</td>\n",
       "      <td>Android</td>\n",
       "      <td>Huawei</td>\n",
       "      <td>NaN</td>\n",
       "      <td>360x720</td>\n",
       "      <td>Chrome</td>\n",
       "      <td>Russia</td>\n",
       "      <td>Zlatoust</td>\n",
       "    </tr>\n",
       "    <tr>\n",
       "      <th>1</th>\n",
       "      <td>905544597018549464.1636867290.1636867290</td>\n",
       "      <td>210838531.163687</td>\n",
       "      <td>2021-11-14</td>\n",
       "      <td>08:21:30</td>\n",
       "      <td>1</td>\n",
       "      <td>MvfHsxITijuriZxsqZqt</td>\n",
       "      <td>cpm</td>\n",
       "      <td>FTjNLDyTrXaWYgZymFkV</td>\n",
       "      <td>xhoenQgDQsgfEPYNPwKO</td>\n",
       "      <td>IGUCNvHlhfHpROGclCit</td>\n",
       "      <td>mobile</td>\n",
       "      <td>Android</td>\n",
       "      <td>Samsung</td>\n",
       "      <td>NaN</td>\n",
       "      <td>385x854</td>\n",
       "      <td>Samsung Internet</td>\n",
       "      <td>Russia</td>\n",
       "      <td>Moscow</td>\n",
       "    </tr>\n",
       "    <tr>\n",
       "      <th>2</th>\n",
       "      <td>9055446045651783499.1640648526.1640648526</td>\n",
       "      <td>2108385331.164065</td>\n",
       "      <td>2021-12-28</td>\n",
       "      <td>02:42:06</td>\n",
       "      <td>1</td>\n",
       "      <td>ZpYIoDJMcFzVoPFsHGJL</td>\n",
       "      <td>banner</td>\n",
       "      <td>LEoPHuyFvzoNfnzGgfcd</td>\n",
       "      <td>vCIpmpaGBnIQhyYNkXqp</td>\n",
       "      <td>puhZPIYqKXeFPaUviSjo</td>\n",
       "      <td>mobile</td>\n",
       "      <td>Android</td>\n",
       "      <td>Huawei</td>\n",
       "      <td>NaN</td>\n",
       "      <td>360x720</td>\n",
       "      <td>Chrome</td>\n",
       "      <td>Russia</td>\n",
       "      <td>Krasnoyarsk</td>\n",
       "    </tr>\n",
       "    <tr>\n",
       "      <th>3</th>\n",
       "      <td>9055447046360770272.1622255328.1622255328</td>\n",
       "      <td>2108385564.162225</td>\n",
       "      <td>2021-05-29</td>\n",
       "      <td>05:00:00</td>\n",
       "      <td>1</td>\n",
       "      <td>kjsLglQLzykiRbcDiGcD</td>\n",
       "      <td>cpc</td>\n",
       "      <td>NaN</td>\n",
       "      <td>NOBKLgtuvqYWkXQHeYWM</td>\n",
       "      <td>NaN</td>\n",
       "      <td>mobile</td>\n",
       "      <td>NaN</td>\n",
       "      <td>Xiaomi</td>\n",
       "      <td>NaN</td>\n",
       "      <td>393x786</td>\n",
       "      <td>Chrome</td>\n",
       "      <td>Russia</td>\n",
       "      <td>Moscow</td>\n",
       "    </tr>\n",
       "    <tr>\n",
       "      <th>4</th>\n",
       "      <td>9055447046360770272.1622255345.1622255345</td>\n",
       "      <td>2108385564.162225</td>\n",
       "      <td>2021-05-29</td>\n",
       "      <td>05:00:00</td>\n",
       "      <td>2</td>\n",
       "      <td>kjsLglQLzykiRbcDiGcD</td>\n",
       "      <td>cpc</td>\n",
       "      <td>NaN</td>\n",
       "      <td>NaN</td>\n",
       "      <td>NaN</td>\n",
       "      <td>mobile</td>\n",
       "      <td>NaN</td>\n",
       "      <td>Xiaomi</td>\n",
       "      <td>NaN</td>\n",
       "      <td>393x786</td>\n",
       "      <td>Chrome</td>\n",
       "      <td>Russia</td>\n",
       "      <td>Moscow</td>\n",
       "    </tr>\n",
       "  </tbody>\n",
       "</table>\n",
       "</div>"
      ],
      "text/plain": [
       "                                  session_id          client_id  visit_date  \\\n",
       "0  9055434745589932991.1637753792.1637753792  2108382700.163776  2021-11-24   \n",
       "1   905544597018549464.1636867290.1636867290   210838531.163687  2021-11-14   \n",
       "2  9055446045651783499.1640648526.1640648526  2108385331.164065  2021-12-28   \n",
       "3  9055447046360770272.1622255328.1622255328  2108385564.162225  2021-05-29   \n",
       "4  9055447046360770272.1622255345.1622255345  2108385564.162225  2021-05-29   \n",
       "\n",
       "  visit_time  visit_number            utm_source utm_medium  \\\n",
       "0   14:36:32             1  ZpYIoDJMcFzVoPFsHGJL     banner   \n",
       "1   08:21:30             1  MvfHsxITijuriZxsqZqt        cpm   \n",
       "2   02:42:06             1  ZpYIoDJMcFzVoPFsHGJL     banner   \n",
       "3   05:00:00             1  kjsLglQLzykiRbcDiGcD        cpc   \n",
       "4   05:00:00             2  kjsLglQLzykiRbcDiGcD        cpc   \n",
       "\n",
       "           utm_campaign         utm_adcontent           utm_keyword  \\\n",
       "0  LEoPHuyFvzoNfnzGgfcd  vCIpmpaGBnIQhyYNkXqp  puhZPIYqKXeFPaUviSjo   \n",
       "1  FTjNLDyTrXaWYgZymFkV  xhoenQgDQsgfEPYNPwKO  IGUCNvHlhfHpROGclCit   \n",
       "2  LEoPHuyFvzoNfnzGgfcd  vCIpmpaGBnIQhyYNkXqp  puhZPIYqKXeFPaUviSjo   \n",
       "3                   NaN  NOBKLgtuvqYWkXQHeYWM                   NaN   \n",
       "4                   NaN                   NaN                   NaN   \n",
       "\n",
       "  device_category device_os device_brand device_model  \\\n",
       "0          mobile   Android       Huawei          NaN   \n",
       "1          mobile   Android      Samsung          NaN   \n",
       "2          mobile   Android       Huawei          NaN   \n",
       "3          mobile       NaN       Xiaomi          NaN   \n",
       "4          mobile       NaN       Xiaomi          NaN   \n",
       "\n",
       "  device_screen_resolution    device_browser geo_country     geo_city  \n",
       "0                  360x720            Chrome      Russia     Zlatoust  \n",
       "1                  385x854  Samsung Internet      Russia       Moscow  \n",
       "2                  360x720            Chrome      Russia  Krasnoyarsk  \n",
       "3                  393x786            Chrome      Russia       Moscow  \n",
       "4                  393x786            Chrome      Russia       Moscow  "
      ]
     },
     "execution_count": 2,
     "metadata": {},
     "output_type": "execute_result"
    }
   ],
   "source": [
    "df_sessions = pd.read_csv('/home/slawilja/PycharmProjects/final_work/data/main_data/ga_sessions.csv')\n",
    "print(df_sessions.shape)\n",
    "df_sessions.head()"
   ]
  },
  {
   "cell_type": "markdown",
   "id": "3cd1c10c",
   "metadata": {},
   "source": [
    "### 1.1 Исследование на пропуски"
   ]
  },
  {
   "cell_type": "markdown",
   "id": "ae6bcfc4",
   "metadata": {},
   "source": [
    "#### 1.1.1 Начало исследования"
   ]
  },
  {
   "cell_type": "code",
   "execution_count": 3,
   "id": "b674cfd6",
   "metadata": {},
   "outputs": [],
   "source": [
    "def missing_values(df): \n",
    "    missing_values = ((df.isna().sum() / len(df) * 100)).sort_values(ascending=False)\n",
    "    return missing_values"
   ]
  },
  {
   "cell_type": "code",
   "execution_count": 4,
   "id": "62be745f",
   "metadata": {
    "scrolled": true
   },
   "outputs": [
    {
     "data": {
      "text/plain": [
       "device_model                99.121633\n",
       "utm_keyword                 58.174009\n",
       "device_os                   57.533002\n",
       "device_brand                19.740307\n",
       "utm_adcontent               18.043410\n",
       "utm_campaign                11.806346\n",
       "utm_source                   0.005215\n",
       "geo_country                  0.000000\n",
       "device_browser               0.000000\n",
       "device_screen_resolution     0.000000\n",
       "session_id                   0.000000\n",
       "device_category              0.000000\n",
       "client_id                    0.000000\n",
       "utm_medium                   0.000000\n",
       "visit_number                 0.000000\n",
       "visit_time                   0.000000\n",
       "visit_date                   0.000000\n",
       "geo_city                     0.000000\n",
       "dtype: float64"
      ]
     },
     "execution_count": 4,
     "metadata": {},
     "output_type": "execute_result"
    }
   ],
   "source": [
    "miss_values = missing_values(df_sessions)\n",
    "miss_values"
   ]
  },
  {
   "cell_type": "markdown",
   "id": "ecd02386",
   "metadata": {},
   "source": [
    "#### 1.1.2 Удаление признаков с пропусками > 20%"
   ]
  },
  {
   "cell_type": "code",
   "execution_count": 5,
   "id": "d0ea93f8",
   "metadata": {},
   "outputs": [
    {
     "data": {
      "text/plain": [
       "['device_model', 'utm_keyword', 'device_os']"
      ]
     },
     "execution_count": 5,
     "metadata": {},
     "output_type": "execute_result"
    }
   ],
   "source": [
    "columns_for_drop = miss_values[miss_values > 20].index.to_list()\n",
    "columns_for_drop"
   ]
  },
  {
   "cell_type": "code",
   "execution_count": 6,
   "id": "188b73ec",
   "metadata": {},
   "outputs": [],
   "source": [
    "df_clean_sess = df_sessions.copy()"
   ]
  },
  {
   "cell_type": "code",
   "execution_count": 7,
   "id": "49e72b3d",
   "metadata": {},
   "outputs": [
    {
     "data": {
      "text/plain": [
       "(1860042, 15)"
      ]
     },
     "execution_count": 7,
     "metadata": {},
     "output_type": "execute_result"
    }
   ],
   "source": [
    "df_clean_sess = df_clean_sess.drop(columns = columns_for_drop)\n",
    "df_clean_sess.shape"
   ]
  },
  {
   "cell_type": "code",
   "execution_count": 8,
   "id": "bc3631b4",
   "metadata": {},
   "outputs": [],
   "source": [
    "def print_useful_rows_info(df):\n",
    "    print('Количество полностью заполненных объектов из всей выборки:', len(df.dropna()))\n",
    "    print('Процент полностью заполненных объектов из всей выборки:', round(len(df.dropna())/len(df)*100, 2))    "
   ]
  },
  {
   "cell_type": "code",
   "execution_count": 9,
   "id": "2efc75ab",
   "metadata": {},
   "outputs": [
    {
     "name": "stdout",
     "output_type": "stream",
     "text": [
      "Количество полностью заполненных объектов из всей выборки: 1230859\n",
      "Процент полностью заполненных объектов из всей выборки: 66.17\n"
     ]
    }
   ],
   "source": [
    "print_useful_rows_info(df_clean_sess)"
   ]
  },
  {
   "cell_type": "code",
   "execution_count": 10,
   "id": "2f6d53b5",
   "metadata": {},
   "outputs": [
    {
     "data": {
      "text/plain": [
       "device_brand                19.740307\n",
       "utm_adcontent               18.043410\n",
       "utm_campaign                11.806346\n",
       "utm_source                   0.005215\n",
       "session_id                   0.000000\n",
       "client_id                    0.000000\n",
       "visit_date                   0.000000\n",
       "visit_time                   0.000000\n",
       "visit_number                 0.000000\n",
       "utm_medium                   0.000000\n",
       "device_category              0.000000\n",
       "device_screen_resolution     0.000000\n",
       "device_browser               0.000000\n",
       "geo_country                  0.000000\n",
       "geo_city                     0.000000\n",
       "dtype: float64"
      ]
     },
     "execution_count": 10,
     "metadata": {},
     "output_type": "execute_result"
    }
   ],
   "source": [
    "mis_val_clean = missing_values(df_clean_sess)\n",
    "mis_val_clean"
   ]
  },
  {
   "cell_type": "code",
   "execution_count": 11,
   "id": "d29b3cc1",
   "metadata": {},
   "outputs": [
    {
     "data": {
      "text/plain": [
       "['device_brand', 'utm_adcontent', 'utm_campaign', 'utm_source']"
      ]
     },
     "execution_count": 11,
     "metadata": {},
     "output_type": "execute_result"
    }
   ],
   "source": [
    "mis_val_clean_col = mis_val_clean[mis_val_clean.values > 0].index.tolist()\n",
    "mis_val_clean_col"
   ]
  },
  {
   "cell_type": "markdown",
   "id": "419c62ef",
   "metadata": {},
   "source": [
    "#### 1.1.3 Обработка пропусков признака utm_source"
   ]
  },
  {
   "cell_type": "code",
   "execution_count": 12,
   "id": "dc102d08",
   "metadata": {},
   "outputs": [
    {
     "name": "stdout",
     "output_type": "stream",
     "text": [
      "(97, 15)\n"
     ]
    },
    {
     "data": {
      "text/html": [
       "<div>\n",
       "<style scoped>\n",
       "    .dataframe tbody tr th:only-of-type {\n",
       "        vertical-align: middle;\n",
       "    }\n",
       "\n",
       "    .dataframe tbody tr th {\n",
       "        vertical-align: top;\n",
       "    }\n",
       "\n",
       "    .dataframe thead th {\n",
       "        text-align: right;\n",
       "    }\n",
       "</style>\n",
       "<table border=\"1\" class=\"dataframe\">\n",
       "  <thead>\n",
       "    <tr style=\"text-align: right;\">\n",
       "      <th></th>\n",
       "      <th>session_id</th>\n",
       "      <th>client_id</th>\n",
       "      <th>visit_date</th>\n",
       "      <th>visit_time</th>\n",
       "      <th>visit_number</th>\n",
       "      <th>utm_source</th>\n",
       "      <th>utm_medium</th>\n",
       "      <th>utm_campaign</th>\n",
       "      <th>utm_adcontent</th>\n",
       "      <th>device_category</th>\n",
       "      <th>device_brand</th>\n",
       "      <th>device_screen_resolution</th>\n",
       "      <th>device_browser</th>\n",
       "      <th>geo_country</th>\n",
       "      <th>geo_city</th>\n",
       "    </tr>\n",
       "  </thead>\n",
       "  <tbody>\n",
       "    <tr>\n",
       "      <th>77652</th>\n",
       "      <td>1100240274910044288.1640728207.1640728207</td>\n",
       "      <td>256169651.163731</td>\n",
       "      <td>2021-12-29</td>\n",
       "      <td>00:50:07</td>\n",
       "      <td>2</td>\n",
       "      <td>NaN</td>\n",
       "      <td>(not set)</td>\n",
       "      <td>LTuZkdKfxRGVceoWkVyg</td>\n",
       "      <td>JNHcPlZPxEMWDnRiyoBf</td>\n",
       "      <td>mobile</td>\n",
       "      <td>OnePlus</td>\n",
       "      <td>412x892</td>\n",
       "      <td>Chrome</td>\n",
       "      <td>Russia</td>\n",
       "      <td>Saint Petersburg</td>\n",
       "    </tr>\n",
       "    <tr>\n",
       "      <th>122841</th>\n",
       "      <td>1303431342277938317.1637250145.1637250145</td>\n",
       "      <td>303478758.1637239949</td>\n",
       "      <td>2021-11-18</td>\n",
       "      <td>18:42:25</td>\n",
       "      <td>3</td>\n",
       "      <td>NaN</td>\n",
       "      <td>Sbol_catalog</td>\n",
       "      <td>cccMlyVfjXspfaCSrMsO</td>\n",
       "      <td>JNHcPlZPxEMWDnRiyoBf</td>\n",
       "      <td>mobile</td>\n",
       "      <td>Apple</td>\n",
       "      <td>375x667</td>\n",
       "      <td>Safari</td>\n",
       "      <td>Russia</td>\n",
       "      <td>Balashikha</td>\n",
       "    </tr>\n",
       "    <tr>\n",
       "      <th>136220</th>\n",
       "      <td>1364914954463538089.1637595059.1637595059</td>\n",
       "      <td>317794027.16344</td>\n",
       "      <td>2021-11-22</td>\n",
       "      <td>18:30:59</td>\n",
       "      <td>8</td>\n",
       "      <td>NaN</td>\n",
       "      <td>(not set)</td>\n",
       "      <td>LTuZkdKfxRGVceoWkVyg</td>\n",
       "      <td>JNHcPlZPxEMWDnRiyoBf</td>\n",
       "      <td>mobile</td>\n",
       "      <td>Xiaomi</td>\n",
       "      <td>393x851</td>\n",
       "      <td>YaBrowser</td>\n",
       "      <td>Russia</td>\n",
       "      <td>Moscow</td>\n",
       "    </tr>\n",
       "    <tr>\n",
       "      <th>136221</th>\n",
       "      <td>1364914954463538089.1638478637.1638478637</td>\n",
       "      <td>317794027.16344</td>\n",
       "      <td>2021-12-02</td>\n",
       "      <td>23:57:17</td>\n",
       "      <td>9</td>\n",
       "      <td>NaN</td>\n",
       "      <td>(not set)</td>\n",
       "      <td>LTuZkdKfxRGVceoWkVyg</td>\n",
       "      <td>JNHcPlZPxEMWDnRiyoBf</td>\n",
       "      <td>mobile</td>\n",
       "      <td>Xiaomi</td>\n",
       "      <td>393x851</td>\n",
       "      <td>YaBrowser</td>\n",
       "      <td>Russia</td>\n",
       "      <td>Moscow</td>\n",
       "    </tr>\n",
       "    <tr>\n",
       "      <th>139706</th>\n",
       "      <td>1380043242326371104.1637518268.1637518268</td>\n",
       "      <td>321316356.163648</td>\n",
       "      <td>2021-11-21</td>\n",
       "      <td>21:11:08</td>\n",
       "      <td>4</td>\n",
       "      <td>NaN</td>\n",
       "      <td>(not set)</td>\n",
       "      <td>LTuZkdKfxRGVceoWkVyg</td>\n",
       "      <td>JNHcPlZPxEMWDnRiyoBf</td>\n",
       "      <td>mobile</td>\n",
       "      <td>Samsung</td>\n",
       "      <td>360x740</td>\n",
       "      <td>Chrome</td>\n",
       "      <td>Russia</td>\n",
       "      <td>Izhevsk</td>\n",
       "    </tr>\n",
       "    <tr>\n",
       "      <th>...</th>\n",
       "      <td>...</td>\n",
       "      <td>...</td>\n",
       "      <td>...</td>\n",
       "      <td>...</td>\n",
       "      <td>...</td>\n",
       "      <td>...</td>\n",
       "      <td>...</td>\n",
       "      <td>...</td>\n",
       "      <td>...</td>\n",
       "      <td>...</td>\n",
       "      <td>...</td>\n",
       "      <td>...</td>\n",
       "      <td>...</td>\n",
       "      <td>...</td>\n",
       "      <td>...</td>\n",
       "    </tr>\n",
       "    <tr>\n",
       "      <th>1629120</th>\n",
       "      <td>8025307339522195714.1638678933.1638678933</td>\n",
       "      <td>1868537473.163671</td>\n",
       "      <td>2021-12-05</td>\n",
       "      <td>07:35:33</td>\n",
       "      <td>13</td>\n",
       "      <td>NaN</td>\n",
       "      <td>(not set)</td>\n",
       "      <td>LTuZkdKfxRGVceoWkVyg</td>\n",
       "      <td>JNHcPlZPxEMWDnRiyoBf</td>\n",
       "      <td>mobile</td>\n",
       "      <td>Huawei</td>\n",
       "      <td>360x780</td>\n",
       "      <td>Chrome</td>\n",
       "      <td>Russia</td>\n",
       "      <td>Sochi</td>\n",
       "    </tr>\n",
       "    <tr>\n",
       "      <th>1629121</th>\n",
       "      <td>8025307339522195714.1638688249.1638688249</td>\n",
       "      <td>1868537473.163671</td>\n",
       "      <td>2021-12-05</td>\n",
       "      <td>10:10:49</td>\n",
       "      <td>14</td>\n",
       "      <td>NaN</td>\n",
       "      <td>(not set)</td>\n",
       "      <td>LTuZkdKfxRGVceoWkVyg</td>\n",
       "      <td>JNHcPlZPxEMWDnRiyoBf</td>\n",
       "      <td>mobile</td>\n",
       "      <td>Huawei</td>\n",
       "      <td>360x780</td>\n",
       "      <td>Chrome</td>\n",
       "      <td>Russia</td>\n",
       "      <td>Krasnodar</td>\n",
       "    </tr>\n",
       "    <tr>\n",
       "      <th>1629122</th>\n",
       "      <td>8025307339522195714.1638954236.1638954236</td>\n",
       "      <td>1868537473.163671</td>\n",
       "      <td>2021-12-08</td>\n",
       "      <td>12:03:56</td>\n",
       "      <td>15</td>\n",
       "      <td>NaN</td>\n",
       "      <td>(not set)</td>\n",
       "      <td>LTuZkdKfxRGVceoWkVyg</td>\n",
       "      <td>JNHcPlZPxEMWDnRiyoBf</td>\n",
       "      <td>mobile</td>\n",
       "      <td>Huawei</td>\n",
       "      <td>360x780</td>\n",
       "      <td>Chrome</td>\n",
       "      <td>Ukraine</td>\n",
       "      <td>Pereval's'k</td>\n",
       "    </tr>\n",
       "    <tr>\n",
       "      <th>1732460</th>\n",
       "      <td>848873006059532776.1637459623.1637459623</td>\n",
       "      <td>197643648.16374</td>\n",
       "      <td>2021-11-21</td>\n",
       "      <td>04:53:43</td>\n",
       "      <td>2</td>\n",
       "      <td>NaN</td>\n",
       "      <td>(not set)</td>\n",
       "      <td>LTuZkdKfxRGVceoWkVyg</td>\n",
       "      <td>JNHcPlZPxEMWDnRiyoBf</td>\n",
       "      <td>mobile</td>\n",
       "      <td>Xiaomi</td>\n",
       "      <td>360x800</td>\n",
       "      <td>Chrome</td>\n",
       "      <td>Russia</td>\n",
       "      <td>Novosibirsk</td>\n",
       "    </tr>\n",
       "    <tr>\n",
       "      <th>1772156</th>\n",
       "      <td>8663363699581084869.1636806863.1636806863</td>\n",
       "      <td>2017096546.163652</td>\n",
       "      <td>2021-11-13</td>\n",
       "      <td>15:34:23</td>\n",
       "      <td>4</td>\n",
       "      <td>NaN</td>\n",
       "      <td>(not set)</td>\n",
       "      <td>LTuZkdKfxRGVceoWkVyg</td>\n",
       "      <td>JNHcPlZPxEMWDnRiyoBf</td>\n",
       "      <td>mobile</td>\n",
       "      <td>Apple</td>\n",
       "      <td>390x844</td>\n",
       "      <td>Safari</td>\n",
       "      <td>Russia</td>\n",
       "      <td>Yuzhno-Sakhalinsk</td>\n",
       "    </tr>\n",
       "  </tbody>\n",
       "</table>\n",
       "<p>97 rows × 15 columns</p>\n",
       "</div>"
      ],
      "text/plain": [
       "                                        session_id             client_id  \\\n",
       "77652    1100240274910044288.1640728207.1640728207      256169651.163731   \n",
       "122841   1303431342277938317.1637250145.1637250145  303478758.1637239949   \n",
       "136220   1364914954463538089.1637595059.1637595059       317794027.16344   \n",
       "136221   1364914954463538089.1638478637.1638478637       317794027.16344   \n",
       "139706   1380043242326371104.1637518268.1637518268      321316356.163648   \n",
       "...                                            ...                   ...   \n",
       "1629120  8025307339522195714.1638678933.1638678933     1868537473.163671   \n",
       "1629121  8025307339522195714.1638688249.1638688249     1868537473.163671   \n",
       "1629122  8025307339522195714.1638954236.1638954236     1868537473.163671   \n",
       "1732460   848873006059532776.1637459623.1637459623       197643648.16374   \n",
       "1772156  8663363699581084869.1636806863.1636806863     2017096546.163652   \n",
       "\n",
       "         visit_date visit_time  visit_number utm_source    utm_medium  \\\n",
       "77652    2021-12-29   00:50:07             2        NaN     (not set)   \n",
       "122841   2021-11-18   18:42:25             3        NaN  Sbol_catalog   \n",
       "136220   2021-11-22   18:30:59             8        NaN     (not set)   \n",
       "136221   2021-12-02   23:57:17             9        NaN     (not set)   \n",
       "139706   2021-11-21   21:11:08             4        NaN     (not set)   \n",
       "...             ...        ...           ...        ...           ...   \n",
       "1629120  2021-12-05   07:35:33            13        NaN     (not set)   \n",
       "1629121  2021-12-05   10:10:49            14        NaN     (not set)   \n",
       "1629122  2021-12-08   12:03:56            15        NaN     (not set)   \n",
       "1732460  2021-11-21   04:53:43             2        NaN     (not set)   \n",
       "1772156  2021-11-13   15:34:23             4        NaN     (not set)   \n",
       "\n",
       "                 utm_campaign         utm_adcontent device_category  \\\n",
       "77652    LTuZkdKfxRGVceoWkVyg  JNHcPlZPxEMWDnRiyoBf          mobile   \n",
       "122841   cccMlyVfjXspfaCSrMsO  JNHcPlZPxEMWDnRiyoBf          mobile   \n",
       "136220   LTuZkdKfxRGVceoWkVyg  JNHcPlZPxEMWDnRiyoBf          mobile   \n",
       "136221   LTuZkdKfxRGVceoWkVyg  JNHcPlZPxEMWDnRiyoBf          mobile   \n",
       "139706   LTuZkdKfxRGVceoWkVyg  JNHcPlZPxEMWDnRiyoBf          mobile   \n",
       "...                       ...                   ...             ...   \n",
       "1629120  LTuZkdKfxRGVceoWkVyg  JNHcPlZPxEMWDnRiyoBf          mobile   \n",
       "1629121  LTuZkdKfxRGVceoWkVyg  JNHcPlZPxEMWDnRiyoBf          mobile   \n",
       "1629122  LTuZkdKfxRGVceoWkVyg  JNHcPlZPxEMWDnRiyoBf          mobile   \n",
       "1732460  LTuZkdKfxRGVceoWkVyg  JNHcPlZPxEMWDnRiyoBf          mobile   \n",
       "1772156  LTuZkdKfxRGVceoWkVyg  JNHcPlZPxEMWDnRiyoBf          mobile   \n",
       "\n",
       "        device_brand device_screen_resolution device_browser geo_country  \\\n",
       "77652        OnePlus                  412x892         Chrome      Russia   \n",
       "122841         Apple                  375x667         Safari      Russia   \n",
       "136220        Xiaomi                  393x851      YaBrowser      Russia   \n",
       "136221        Xiaomi                  393x851      YaBrowser      Russia   \n",
       "139706       Samsung                  360x740         Chrome      Russia   \n",
       "...              ...                      ...            ...         ...   \n",
       "1629120       Huawei                  360x780         Chrome      Russia   \n",
       "1629121       Huawei                  360x780         Chrome      Russia   \n",
       "1629122       Huawei                  360x780         Chrome     Ukraine   \n",
       "1732460       Xiaomi                  360x800         Chrome      Russia   \n",
       "1772156        Apple                  390x844         Safari      Russia   \n",
       "\n",
       "                  geo_city  \n",
       "77652     Saint Petersburg  \n",
       "122841          Balashikha  \n",
       "136220              Moscow  \n",
       "136221              Moscow  \n",
       "139706             Izhevsk  \n",
       "...                    ...  \n",
       "1629120              Sochi  \n",
       "1629121          Krasnodar  \n",
       "1629122        Pereval's'k  \n",
       "1732460        Novosibirsk  \n",
       "1772156  Yuzhno-Sakhalinsk  \n",
       "\n",
       "[97 rows x 15 columns]"
      ]
     },
     "execution_count": 12,
     "metadata": {},
     "output_type": "execute_result"
    }
   ],
   "source": [
    "print(df_clean_sess[df_clean_sess.utm_source.isna()].shape)\n",
    "df_clean_sess[df_clean_sess.utm_source.isna()]"
   ]
  },
  {
   "cell_type": "code",
   "execution_count": 13,
   "id": "a43efa1c",
   "metadata": {},
   "outputs": [],
   "source": [
    "df_clean_sess.utm_source.fillna('other', inplace=True)"
   ]
  },
  {
   "cell_type": "code",
   "execution_count": 14,
   "id": "566b42f7",
   "metadata": {},
   "outputs": [
    {
     "name": "stdout",
     "output_type": "stream",
     "text": [
      "Количество пропущенных значений в utm_source: 0\n"
     ]
    }
   ],
   "source": [
    "print(f\"Количество пропущенных значений в utm_source: {df_clean_sess['utm_source'].isna().sum()}\")"
   ]
  },
  {
   "cell_type": "markdown",
   "id": "3ca92c33",
   "metadata": {},
   "source": [
    "#### 1.1.4 Обработка пропусков признака utm_campaign"
   ]
  },
  {
   "cell_type": "code",
   "execution_count": 15,
   "id": "c209a67f",
   "metadata": {},
   "outputs": [
    {
     "name": "stdout",
     "output_type": "stream",
     "text": [
      "(219603, 15)\n"
     ]
    },
    {
     "data": {
      "text/html": [
       "<div>\n",
       "<style scoped>\n",
       "    .dataframe tbody tr th:only-of-type {\n",
       "        vertical-align: middle;\n",
       "    }\n",
       "\n",
       "    .dataframe tbody tr th {\n",
       "        vertical-align: top;\n",
       "    }\n",
       "\n",
       "    .dataframe thead th {\n",
       "        text-align: right;\n",
       "    }\n",
       "</style>\n",
       "<table border=\"1\" class=\"dataframe\">\n",
       "  <thead>\n",
       "    <tr style=\"text-align: right;\">\n",
       "      <th></th>\n",
       "      <th>session_id</th>\n",
       "      <th>client_id</th>\n",
       "      <th>visit_date</th>\n",
       "      <th>visit_time</th>\n",
       "      <th>visit_number</th>\n",
       "      <th>utm_source</th>\n",
       "      <th>utm_medium</th>\n",
       "      <th>utm_campaign</th>\n",
       "      <th>utm_adcontent</th>\n",
       "      <th>device_category</th>\n",
       "      <th>device_brand</th>\n",
       "      <th>device_screen_resolution</th>\n",
       "      <th>device_browser</th>\n",
       "      <th>geo_country</th>\n",
       "      <th>geo_city</th>\n",
       "    </tr>\n",
       "  </thead>\n",
       "  <tbody>\n",
       "    <tr>\n",
       "      <th>3</th>\n",
       "      <td>9055447046360770272.1622255328.1622255328</td>\n",
       "      <td>2108385564.162225</td>\n",
       "      <td>2021-05-29</td>\n",
       "      <td>05:00:00</td>\n",
       "      <td>1</td>\n",
       "      <td>kjsLglQLzykiRbcDiGcD</td>\n",
       "      <td>cpc</td>\n",
       "      <td>NaN</td>\n",
       "      <td>NOBKLgtuvqYWkXQHeYWM</td>\n",
       "      <td>mobile</td>\n",
       "      <td>Xiaomi</td>\n",
       "      <td>393x786</td>\n",
       "      <td>Chrome</td>\n",
       "      <td>Russia</td>\n",
       "      <td>Moscow</td>\n",
       "    </tr>\n",
       "    <tr>\n",
       "      <th>4</th>\n",
       "      <td>9055447046360770272.1622255345.1622255345</td>\n",
       "      <td>2108385564.162225</td>\n",
       "      <td>2021-05-29</td>\n",
       "      <td>05:00:00</td>\n",
       "      <td>2</td>\n",
       "      <td>kjsLglQLzykiRbcDiGcD</td>\n",
       "      <td>cpc</td>\n",
       "      <td>NaN</td>\n",
       "      <td>NaN</td>\n",
       "      <td>mobile</td>\n",
       "      <td>Xiaomi</td>\n",
       "      <td>393x786</td>\n",
       "      <td>Chrome</td>\n",
       "      <td>Russia</td>\n",
       "      <td>Moscow</td>\n",
       "    </tr>\n",
       "    <tr>\n",
       "      <th>14</th>\n",
       "      <td>9055469620715506713.1636559415.1636559415</td>\n",
       "      <td>2108390820.162888</td>\n",
       "      <td>2021-11-10</td>\n",
       "      <td>18:50:15</td>\n",
       "      <td>4</td>\n",
       "      <td>SzZERoLMmrEUEhDaYcyN</td>\n",
       "      <td>cpc</td>\n",
       "      <td>NaN</td>\n",
       "      <td>NaN</td>\n",
       "      <td>mobile</td>\n",
       "      <td>Samsung</td>\n",
       "      <td>412x869</td>\n",
       "      <td>Android Webview</td>\n",
       "      <td>Russia</td>\n",
       "      <td>Saint Petersburg</td>\n",
       "    </tr>\n",
       "    <tr>\n",
       "      <th>27</th>\n",
       "      <td>9055504865227535872.1639282176.1639282176</td>\n",
       "      <td>2108399026.163928</td>\n",
       "      <td>2021-12-12</td>\n",
       "      <td>07:09:36</td>\n",
       "      <td>1</td>\n",
       "      <td>BHcvLfOaCWvWTykYqHVe</td>\n",
       "      <td>cpc</td>\n",
       "      <td>NaN</td>\n",
       "      <td>NaN</td>\n",
       "      <td>mobile</td>\n",
       "      <td>Samsung</td>\n",
       "      <td>385x854</td>\n",
       "      <td>Chrome</td>\n",
       "      <td>Russia</td>\n",
       "      <td>Moscow</td>\n",
       "    </tr>\n",
       "    <tr>\n",
       "      <th>38</th>\n",
       "      <td>905553874150070422.1639028922.1639028922</td>\n",
       "      <td>210840691.163903</td>\n",
       "      <td>2021-12-09</td>\n",
       "      <td>08:48:42</td>\n",
       "      <td>2</td>\n",
       "      <td>kjsLglQLzykiRbcDiGcD</td>\n",
       "      <td>cpc</td>\n",
       "      <td>NaN</td>\n",
       "      <td>NaN</td>\n",
       "      <td>mobile</td>\n",
       "      <td>Apple</td>\n",
       "      <td>375x812</td>\n",
       "      <td>Safari</td>\n",
       "      <td>Russia</td>\n",
       "      <td>Moscow</td>\n",
       "    </tr>\n",
       "  </tbody>\n",
       "</table>\n",
       "</div>"
      ],
      "text/plain": [
       "                                   session_id          client_id  visit_date  \\\n",
       "3   9055447046360770272.1622255328.1622255328  2108385564.162225  2021-05-29   \n",
       "4   9055447046360770272.1622255345.1622255345  2108385564.162225  2021-05-29   \n",
       "14  9055469620715506713.1636559415.1636559415  2108390820.162888  2021-11-10   \n",
       "27  9055504865227535872.1639282176.1639282176  2108399026.163928  2021-12-12   \n",
       "38   905553874150070422.1639028922.1639028922   210840691.163903  2021-12-09   \n",
       "\n",
       "   visit_time  visit_number            utm_source utm_medium utm_campaign  \\\n",
       "3    05:00:00             1  kjsLglQLzykiRbcDiGcD        cpc          NaN   \n",
       "4    05:00:00             2  kjsLglQLzykiRbcDiGcD        cpc          NaN   \n",
       "14   18:50:15             4  SzZERoLMmrEUEhDaYcyN        cpc          NaN   \n",
       "27   07:09:36             1  BHcvLfOaCWvWTykYqHVe        cpc          NaN   \n",
       "38   08:48:42             2  kjsLglQLzykiRbcDiGcD        cpc          NaN   \n",
       "\n",
       "           utm_adcontent device_category device_brand  \\\n",
       "3   NOBKLgtuvqYWkXQHeYWM          mobile       Xiaomi   \n",
       "4                    NaN          mobile       Xiaomi   \n",
       "14                   NaN          mobile      Samsung   \n",
       "27                   NaN          mobile      Samsung   \n",
       "38                   NaN          mobile        Apple   \n",
       "\n",
       "   device_screen_resolution   device_browser geo_country          geo_city  \n",
       "3                   393x786           Chrome      Russia            Moscow  \n",
       "4                   393x786           Chrome      Russia            Moscow  \n",
       "14                  412x869  Android Webview      Russia  Saint Petersburg  \n",
       "27                  385x854           Chrome      Russia            Moscow  \n",
       "38                  375x812           Safari      Russia            Moscow  "
      ]
     },
     "execution_count": 15,
     "metadata": {},
     "output_type": "execute_result"
    }
   ],
   "source": [
    "print(df_clean_sess[df_clean_sess.utm_campaign.isna()].shape)\n",
    "df_clean_sess[ df_clean_sess.utm_campaign.isna()].head()"
   ]
  },
  {
   "cell_type": "code",
   "execution_count": 16,
   "id": "bf239b59",
   "metadata": {},
   "outputs": [],
   "source": [
    "df_clean_sess.utm_campaign.fillna('other', inplace=True)"
   ]
  },
  {
   "cell_type": "code",
   "execution_count": 17,
   "id": "07e16049",
   "metadata": {},
   "outputs": [
    {
     "name": "stdout",
     "output_type": "stream",
     "text": [
      "Количество пропущенных значений в utm_source: 0\n"
     ]
    }
   ],
   "source": [
    "print(f\"Количество пропущенных значений в utm_source: {df_clean_sess['utm_campaign'].isna().sum()}\")"
   ]
  },
  {
   "cell_type": "markdown",
   "id": "4d27f7d9",
   "metadata": {},
   "source": [
    "#### 1.1.5 Обработка пропусков признака utm_adcontent"
   ]
  },
  {
   "cell_type": "code",
   "execution_count": 18,
   "id": "2d6aa8ee",
   "metadata": {},
   "outputs": [
    {
     "name": "stdout",
     "output_type": "stream",
     "text": [
      "(335615, 15)\n"
     ]
    },
    {
     "data": {
      "text/html": [
       "<div>\n",
       "<style scoped>\n",
       "    .dataframe tbody tr th:only-of-type {\n",
       "        vertical-align: middle;\n",
       "    }\n",
       "\n",
       "    .dataframe tbody tr th {\n",
       "        vertical-align: top;\n",
       "    }\n",
       "\n",
       "    .dataframe thead th {\n",
       "        text-align: right;\n",
       "    }\n",
       "</style>\n",
       "<table border=\"1\" class=\"dataframe\">\n",
       "  <thead>\n",
       "    <tr style=\"text-align: right;\">\n",
       "      <th></th>\n",
       "      <th>session_id</th>\n",
       "      <th>client_id</th>\n",
       "      <th>visit_date</th>\n",
       "      <th>visit_time</th>\n",
       "      <th>visit_number</th>\n",
       "      <th>utm_source</th>\n",
       "      <th>utm_medium</th>\n",
       "      <th>utm_campaign</th>\n",
       "      <th>utm_adcontent</th>\n",
       "      <th>device_category</th>\n",
       "      <th>device_brand</th>\n",
       "      <th>device_screen_resolution</th>\n",
       "      <th>device_browser</th>\n",
       "      <th>geo_country</th>\n",
       "      <th>geo_city</th>\n",
       "    </tr>\n",
       "  </thead>\n",
       "  <tbody>\n",
       "    <tr>\n",
       "      <th>4</th>\n",
       "      <td>9055447046360770272.1622255345.1622255345</td>\n",
       "      <td>2108385564.162225</td>\n",
       "      <td>2021-05-29</td>\n",
       "      <td>05:00:00</td>\n",
       "      <td>2</td>\n",
       "      <td>kjsLglQLzykiRbcDiGcD</td>\n",
       "      <td>cpc</td>\n",
       "      <td>other</td>\n",
       "      <td>NaN</td>\n",
       "      <td>mobile</td>\n",
       "      <td>Xiaomi</td>\n",
       "      <td>393x786</td>\n",
       "      <td>Chrome</td>\n",
       "      <td>Russia</td>\n",
       "      <td>Moscow</td>\n",
       "    </tr>\n",
       "    <tr>\n",
       "      <th>14</th>\n",
       "      <td>9055469620715506713.1636559415.1636559415</td>\n",
       "      <td>2108390820.162888</td>\n",
       "      <td>2021-11-10</td>\n",
       "      <td>18:50:15</td>\n",
       "      <td>4</td>\n",
       "      <td>SzZERoLMmrEUEhDaYcyN</td>\n",
       "      <td>cpc</td>\n",
       "      <td>other</td>\n",
       "      <td>NaN</td>\n",
       "      <td>mobile</td>\n",
       "      <td>Samsung</td>\n",
       "      <td>412x869</td>\n",
       "      <td>Android Webview</td>\n",
       "      <td>Russia</td>\n",
       "      <td>Saint Petersburg</td>\n",
       "    </tr>\n",
       "    <tr>\n",
       "      <th>27</th>\n",
       "      <td>9055504865227535872.1639282176.1639282176</td>\n",
       "      <td>2108399026.163928</td>\n",
       "      <td>2021-12-12</td>\n",
       "      <td>07:09:36</td>\n",
       "      <td>1</td>\n",
       "      <td>BHcvLfOaCWvWTykYqHVe</td>\n",
       "      <td>cpc</td>\n",
       "      <td>other</td>\n",
       "      <td>NaN</td>\n",
       "      <td>mobile</td>\n",
       "      <td>Samsung</td>\n",
       "      <td>385x854</td>\n",
       "      <td>Chrome</td>\n",
       "      <td>Russia</td>\n",
       "      <td>Moscow</td>\n",
       "    </tr>\n",
       "    <tr>\n",
       "      <th>37</th>\n",
       "      <td>905553874150070422.1639028885.1639028885</td>\n",
       "      <td>210840691.163903</td>\n",
       "      <td>2021-12-09</td>\n",
       "      <td>08:48:05</td>\n",
       "      <td>1</td>\n",
       "      <td>kjsLglQLzykiRbcDiGcD</td>\n",
       "      <td>cpc</td>\n",
       "      <td>LwJZxKuWmvOhPsaCeRjG</td>\n",
       "      <td>NaN</td>\n",
       "      <td>mobile</td>\n",
       "      <td>Apple</td>\n",
       "      <td>375x812</td>\n",
       "      <td>Safari</td>\n",
       "      <td>Russia</td>\n",
       "      <td>Moscow</td>\n",
       "    </tr>\n",
       "    <tr>\n",
       "      <th>38</th>\n",
       "      <td>905553874150070422.1639028922.1639028922</td>\n",
       "      <td>210840691.163903</td>\n",
       "      <td>2021-12-09</td>\n",
       "      <td>08:48:42</td>\n",
       "      <td>2</td>\n",
       "      <td>kjsLglQLzykiRbcDiGcD</td>\n",
       "      <td>cpc</td>\n",
       "      <td>other</td>\n",
       "      <td>NaN</td>\n",
       "      <td>mobile</td>\n",
       "      <td>Apple</td>\n",
       "      <td>375x812</td>\n",
       "      <td>Safari</td>\n",
       "      <td>Russia</td>\n",
       "      <td>Moscow</td>\n",
       "    </tr>\n",
       "  </tbody>\n",
       "</table>\n",
       "</div>"
      ],
      "text/plain": [
       "                                   session_id          client_id  visit_date  \\\n",
       "4   9055447046360770272.1622255345.1622255345  2108385564.162225  2021-05-29   \n",
       "14  9055469620715506713.1636559415.1636559415  2108390820.162888  2021-11-10   \n",
       "27  9055504865227535872.1639282176.1639282176  2108399026.163928  2021-12-12   \n",
       "37   905553874150070422.1639028885.1639028885   210840691.163903  2021-12-09   \n",
       "38   905553874150070422.1639028922.1639028922   210840691.163903  2021-12-09   \n",
       "\n",
       "   visit_time  visit_number            utm_source utm_medium  \\\n",
       "4    05:00:00             2  kjsLglQLzykiRbcDiGcD        cpc   \n",
       "14   18:50:15             4  SzZERoLMmrEUEhDaYcyN        cpc   \n",
       "27   07:09:36             1  BHcvLfOaCWvWTykYqHVe        cpc   \n",
       "37   08:48:05             1  kjsLglQLzykiRbcDiGcD        cpc   \n",
       "38   08:48:42             2  kjsLglQLzykiRbcDiGcD        cpc   \n",
       "\n",
       "            utm_campaign utm_adcontent device_category device_brand  \\\n",
       "4                  other           NaN          mobile       Xiaomi   \n",
       "14                 other           NaN          mobile      Samsung   \n",
       "27                 other           NaN          mobile      Samsung   \n",
       "37  LwJZxKuWmvOhPsaCeRjG           NaN          mobile        Apple   \n",
       "38                 other           NaN          mobile        Apple   \n",
       "\n",
       "   device_screen_resolution   device_browser geo_country          geo_city  \n",
       "4                   393x786           Chrome      Russia            Moscow  \n",
       "14                  412x869  Android Webview      Russia  Saint Petersburg  \n",
       "27                  385x854           Chrome      Russia            Moscow  \n",
       "37                  375x812           Safari      Russia            Moscow  \n",
       "38                  375x812           Safari      Russia            Moscow  "
      ]
     },
     "execution_count": 18,
     "metadata": {},
     "output_type": "execute_result"
    }
   ],
   "source": [
    "print(df_clean_sess[df_clean_sess.utm_adcontent.isna()].shape)\n",
    "df_clean_sess[ df_clean_sess.utm_adcontent.isna()].head()"
   ]
  },
  {
   "cell_type": "code",
   "execution_count": 19,
   "id": "bb6e43b4",
   "metadata": {},
   "outputs": [],
   "source": [
    "df_clean_sess.utm_adcontent.fillna('other', inplace=True)"
   ]
  },
  {
   "cell_type": "code",
   "execution_count": 20,
   "id": "d26e0a02",
   "metadata": {},
   "outputs": [
    {
     "name": "stdout",
     "output_type": "stream",
     "text": [
      "Количество пропущенных значений в utm_adcontent: 0\n"
     ]
    }
   ],
   "source": [
    "print(f\"Количество пропущенных значений в utm_adcontent: {df_clean_sess['utm_adcontent'].isna().sum()}\")"
   ]
  },
  {
   "cell_type": "markdown",
   "id": "a5fd7d0f",
   "metadata": {},
   "source": [
    "#### 1.1.6 Обработка пропусков признака device_brand"
   ]
  },
  {
   "cell_type": "code",
   "execution_count": 21,
   "id": "5c22fd7d",
   "metadata": {},
   "outputs": [
    {
     "name": "stdout",
     "output_type": "stream",
     "text": [
      "(367178, 15)\n"
     ]
    },
    {
     "data": {
      "text/html": [
       "<div>\n",
       "<style scoped>\n",
       "    .dataframe tbody tr th:only-of-type {\n",
       "        vertical-align: middle;\n",
       "    }\n",
       "\n",
       "    .dataframe tbody tr th {\n",
       "        vertical-align: top;\n",
       "    }\n",
       "\n",
       "    .dataframe thead th {\n",
       "        text-align: right;\n",
       "    }\n",
       "</style>\n",
       "<table border=\"1\" class=\"dataframe\">\n",
       "  <thead>\n",
       "    <tr style=\"text-align: right;\">\n",
       "      <th></th>\n",
       "      <th>session_id</th>\n",
       "      <th>client_id</th>\n",
       "      <th>visit_date</th>\n",
       "      <th>visit_time</th>\n",
       "      <th>visit_number</th>\n",
       "      <th>utm_source</th>\n",
       "      <th>utm_medium</th>\n",
       "      <th>utm_campaign</th>\n",
       "      <th>utm_adcontent</th>\n",
       "      <th>device_category</th>\n",
       "      <th>device_brand</th>\n",
       "      <th>device_screen_resolution</th>\n",
       "      <th>device_browser</th>\n",
       "      <th>geo_country</th>\n",
       "      <th>geo_city</th>\n",
       "    </tr>\n",
       "  </thead>\n",
       "  <tbody>\n",
       "    <tr>\n",
       "      <th>28</th>\n",
       "      <td>9055505230298952295.1638478433.1638478433</td>\n",
       "      <td>2108399111.163848</td>\n",
       "      <td>2021-12-02</td>\n",
       "      <td>23:53:53</td>\n",
       "      <td>1</td>\n",
       "      <td>fDLlAcSmythWSCVMvqvL</td>\n",
       "      <td>(none)</td>\n",
       "      <td>LTuZkdKfxRGVceoWkVyg</td>\n",
       "      <td>JNHcPlZPxEMWDnRiyoBf</td>\n",
       "      <td>desktop</td>\n",
       "      <td>NaN</td>\n",
       "      <td>1536x864</td>\n",
       "      <td>Chrome</td>\n",
       "      <td>Russia</td>\n",
       "      <td>Balashikha</td>\n",
       "    </tr>\n",
       "    <tr>\n",
       "      <th>63</th>\n",
       "      <td>9055657327967035032.1629707931.1629707931</td>\n",
       "      <td>2108434524.162971</td>\n",
       "      <td>2021-08-23</td>\n",
       "      <td>11:00:00</td>\n",
       "      <td>1</td>\n",
       "      <td>nSReTmyFtbSjlPrTKoaX</td>\n",
       "      <td>banner</td>\n",
       "      <td>BVKxkCOHKUOvkpbrLMgZ</td>\n",
       "      <td>JNHcPlZPxEMWDnRiyoBf</td>\n",
       "      <td>desktop</td>\n",
       "      <td>NaN</td>\n",
       "      <td>1920x1080</td>\n",
       "      <td>YaBrowser</td>\n",
       "      <td>Russia</td>\n",
       "      <td>Moscow</td>\n",
       "    </tr>\n",
       "    <tr>\n",
       "      <th>64</th>\n",
       "      <td>905565977351442956.1622561294.1622561294</td>\n",
       "      <td>210843509.162256</td>\n",
       "      <td>2021-06-01</td>\n",
       "      <td>18:00:00</td>\n",
       "      <td>1</td>\n",
       "      <td>fDLlAcSmythWSCVMvqvL</td>\n",
       "      <td>(none)</td>\n",
       "      <td>LTuZkdKfxRGVceoWkVyg</td>\n",
       "      <td>JNHcPlZPxEMWDnRiyoBf</td>\n",
       "      <td>desktop</td>\n",
       "      <td>NaN</td>\n",
       "      <td>1920x1080</td>\n",
       "      <td>Chrome</td>\n",
       "      <td>Russia</td>\n",
       "      <td>Moscow</td>\n",
       "    </tr>\n",
       "    <tr>\n",
       "      <th>67</th>\n",
       "      <td>9055678214400253418.1636965866.1636965866</td>\n",
       "      <td>2108439387.163696</td>\n",
       "      <td>2021-11-15</td>\n",
       "      <td>11:44:26</td>\n",
       "      <td>1</td>\n",
       "      <td>fDLlAcSmythWSCVMvqvL</td>\n",
       "      <td>(none)</td>\n",
       "      <td>LTuZkdKfxRGVceoWkVyg</td>\n",
       "      <td>JNHcPlZPxEMWDnRiyoBf</td>\n",
       "      <td>desktop</td>\n",
       "      <td>NaN</td>\n",
       "      <td>1920x1080</td>\n",
       "      <td>Chrome</td>\n",
       "      <td>Russia</td>\n",
       "      <td>Saint Petersburg</td>\n",
       "    </tr>\n",
       "    <tr>\n",
       "      <th>73</th>\n",
       "      <td>9055788191321875859.1626006934.1626006934</td>\n",
       "      <td>2108464993.162601</td>\n",
       "      <td>2021-07-11</td>\n",
       "      <td>15:00:00</td>\n",
       "      <td>1</td>\n",
       "      <td>fDLlAcSmythWSCVMvqvL</td>\n",
       "      <td>(none)</td>\n",
       "      <td>LTuZkdKfxRGVceoWkVyg</td>\n",
       "      <td>JNHcPlZPxEMWDnRiyoBf</td>\n",
       "      <td>desktop</td>\n",
       "      <td>NaN</td>\n",
       "      <td>1280x720</td>\n",
       "      <td>Chrome</td>\n",
       "      <td>Russia</td>\n",
       "      <td>Moscow</td>\n",
       "    </tr>\n",
       "  </tbody>\n",
       "</table>\n",
       "</div>"
      ],
      "text/plain": [
       "                                   session_id          client_id  visit_date  \\\n",
       "28  9055505230298952295.1638478433.1638478433  2108399111.163848  2021-12-02   \n",
       "63  9055657327967035032.1629707931.1629707931  2108434524.162971  2021-08-23   \n",
       "64   905565977351442956.1622561294.1622561294   210843509.162256  2021-06-01   \n",
       "67  9055678214400253418.1636965866.1636965866  2108439387.163696  2021-11-15   \n",
       "73  9055788191321875859.1626006934.1626006934  2108464993.162601  2021-07-11   \n",
       "\n",
       "   visit_time  visit_number            utm_source utm_medium  \\\n",
       "28   23:53:53             1  fDLlAcSmythWSCVMvqvL     (none)   \n",
       "63   11:00:00             1  nSReTmyFtbSjlPrTKoaX     banner   \n",
       "64   18:00:00             1  fDLlAcSmythWSCVMvqvL     (none)   \n",
       "67   11:44:26             1  fDLlAcSmythWSCVMvqvL     (none)   \n",
       "73   15:00:00             1  fDLlAcSmythWSCVMvqvL     (none)   \n",
       "\n",
       "            utm_campaign         utm_adcontent device_category device_brand  \\\n",
       "28  LTuZkdKfxRGVceoWkVyg  JNHcPlZPxEMWDnRiyoBf         desktop          NaN   \n",
       "63  BVKxkCOHKUOvkpbrLMgZ  JNHcPlZPxEMWDnRiyoBf         desktop          NaN   \n",
       "64  LTuZkdKfxRGVceoWkVyg  JNHcPlZPxEMWDnRiyoBf         desktop          NaN   \n",
       "67  LTuZkdKfxRGVceoWkVyg  JNHcPlZPxEMWDnRiyoBf         desktop          NaN   \n",
       "73  LTuZkdKfxRGVceoWkVyg  JNHcPlZPxEMWDnRiyoBf         desktop          NaN   \n",
       "\n",
       "   device_screen_resolution device_browser geo_country          geo_city  \n",
       "28                 1536x864         Chrome      Russia        Balashikha  \n",
       "63                1920x1080      YaBrowser      Russia            Moscow  \n",
       "64                1920x1080         Chrome      Russia            Moscow  \n",
       "67                1920x1080         Chrome      Russia  Saint Petersburg  \n",
       "73                 1280x720         Chrome      Russia            Moscow  "
      ]
     },
     "execution_count": 21,
     "metadata": {},
     "output_type": "execute_result"
    }
   ],
   "source": [
    "print(df_clean_sess[df_clean_sess.device_brand.isna()].shape)\n",
    "df_clean_sess[ df_clean_sess.device_brand.isna()].head()"
   ]
  },
  {
   "cell_type": "code",
   "execution_count": 22,
   "id": "09e6afb5",
   "metadata": {},
   "outputs": [],
   "source": [
    "df_clean_sess.device_brand.fillna('other', inplace=True)"
   ]
  },
  {
   "cell_type": "code",
   "execution_count": 23,
   "id": "6d745639",
   "metadata": {},
   "outputs": [
    {
     "name": "stdout",
     "output_type": "stream",
     "text": [
      "Количество пропущенных значений в device_brand: 0\n"
     ]
    }
   ],
   "source": [
    "print(f\"Количество пропущенных значений в device_brand: {df_clean_sess['device_brand'].isna().sum()}\")"
   ]
  },
  {
   "cell_type": "markdown",
   "id": "c5dd7f50",
   "metadata": {},
   "source": [
    "#### 1.1.7 Итог"
   ]
  },
  {
   "cell_type": "code",
   "execution_count": 24,
   "id": "3cb91194",
   "metadata": {},
   "outputs": [
    {
     "data": {
      "text/plain": [
       "session_id                  0.0\n",
       "client_id                   0.0\n",
       "visit_date                  0.0\n",
       "visit_time                  0.0\n",
       "visit_number                0.0\n",
       "utm_source                  0.0\n",
       "utm_medium                  0.0\n",
       "utm_campaign                0.0\n",
       "utm_adcontent               0.0\n",
       "device_category             0.0\n",
       "device_brand                0.0\n",
       "device_screen_resolution    0.0\n",
       "device_browser              0.0\n",
       "geo_country                 0.0\n",
       "geo_city                    0.0\n",
       "dtype: float64"
      ]
     },
     "execution_count": 24,
     "metadata": {},
     "output_type": "execute_result"
    }
   ],
   "source": [
    "missing_values(df_clean_sess)"
   ]
  },
  {
   "cell_type": "code",
   "execution_count": 25,
   "id": "d96b0b86",
   "metadata": {},
   "outputs": [
    {
     "name": "stdout",
     "output_type": "stream",
     "text": [
      "Количество полностью заполненных объектов из всей выборки: 1860042\n",
      "Процент полностью заполненных объектов из всей выборки: 100.0\n"
     ]
    }
   ],
   "source": [
    "print_useful_rows_info(df_clean_sess)"
   ]
  },
  {
   "cell_type": "code",
   "execution_count": 26,
   "id": "3da127ae",
   "metadata": {},
   "outputs": [
    {
     "data": {
      "text/plain": [
       "(1860042, 15)"
      ]
     },
     "execution_count": 26,
     "metadata": {},
     "output_type": "execute_result"
    }
   ],
   "source": [
    "df_clean_sess.shape"
   ]
  },
  {
   "cell_type": "markdown",
   "id": "70a1e22d",
   "metadata": {},
   "source": [
    "### 1.2 Поиск неинформативных признаков"
   ]
  },
  {
   "cell_type": "code",
   "execution_count": 27,
   "id": "745300dc",
   "metadata": {},
   "outputs": [
    {
     "name": "stdout",
     "output_type": "stream",
     "text": [
      "Количество уникальных значений признака session_id: 1860042\n",
      "Количество уникальных значений признака client_id: 1391717\n",
      "Количество уникальных значений признака visit_date: 226\n",
      "Количество уникальных значений признака visit_time: 85318\n",
      "Количество уникальных значений признака visit_number: 537\n",
      "Количество уникальных значений признака utm_source: 294\n",
      "Количество уникальных значений признака utm_medium: 56\n",
      "Количество уникальных значений признака utm_campaign: 413\n",
      "Количество уникальных значений признака utm_adcontent: 287\n",
      "Количество уникальных значений признака device_category: 3\n",
      "Количество уникальных значений признака device_brand: 206\n",
      "Количество уникальных значений признака device_screen_resolution: 5039\n",
      "Количество уникальных значений признака device_browser: 57\n",
      "Количество уникальных значений признака geo_country: 166\n",
      "Количество уникальных значений признака geo_city: 2548\n",
      "\n",
      "Колонки с единственным значением: []\n"
     ]
    }
   ],
   "source": [
    "uniq_col = []\n",
    "for i in df_clean_sess.columns:\n",
    "    print(f'Количество уникальных значений признака {i}: {df_clean_sess[i].nunique()}')\n",
    "    if df_clean_sess[i].nunique() == 1:\n",
    "        uniq_col.append(i)\n",
    "\n",
    "print(f'\\nКолонки с единственным значением: {uniq_col}')"
   ]
  },
  {
   "cell_type": "code",
   "execution_count": 28,
   "id": "5a330969",
   "metadata": {},
   "outputs": [
    {
     "name": "stdout",
     "output_type": "stream",
     "text": [
      "В датасете нет неинформативных признаков.\n"
     ]
    }
   ],
   "source": [
    "if len(uniq_col) == 0:\n",
    "    print('В датасете нет неинформативных признаков.')\n",
    "else:\n",
    "    df_clean_sess = df_clean_sess.drop(columns = uniq_col)"
   ]
  },
  {
   "cell_type": "code",
   "execution_count": 29,
   "id": "4ac83185",
   "metadata": {},
   "outputs": [
    {
     "data": {
      "text/plain": [
       "(1860042, 15)"
      ]
     },
     "execution_count": 29,
     "metadata": {},
     "output_type": "execute_result"
    }
   ],
   "source": [
    "df_clean_sess.shape"
   ]
  },
  {
   "cell_type": "markdown",
   "id": "843afb3c",
   "metadata": {},
   "source": [
    "### 1.3 Приведение типов"
   ]
  },
  {
   "cell_type": "code",
   "execution_count": 30,
   "id": "260e55f5",
   "metadata": {},
   "outputs": [],
   "source": [
    "df_types_sess = df_clean_sess.copy()"
   ]
  },
  {
   "cell_type": "code",
   "execution_count": 31,
   "id": "0075fa8e",
   "metadata": {},
   "outputs": [
    {
     "data": {
      "text/plain": [
       "session_id                  object\n",
       "client_id                   object\n",
       "visit_date                  object\n",
       "visit_time                  object\n",
       "visit_number                 int64\n",
       "utm_source                  object\n",
       "utm_medium                  object\n",
       "utm_campaign                object\n",
       "utm_adcontent               object\n",
       "device_category             object\n",
       "device_brand                object\n",
       "device_screen_resolution    object\n",
       "device_browser              object\n",
       "geo_country                 object\n",
       "geo_city                    object\n",
       "dtype: object"
      ]
     },
     "execution_count": 31,
     "metadata": {},
     "output_type": "execute_result"
    }
   ],
   "source": [
    "df_types_sess.dtypes"
   ]
  },
  {
   "cell_type": "code",
   "execution_count": 32,
   "id": "7fb515d3",
   "metadata": {},
   "outputs": [
    {
     "data": {
      "text/html": [
       "<div>\n",
       "<style scoped>\n",
       "    .dataframe tbody tr th:only-of-type {\n",
       "        vertical-align: middle;\n",
       "    }\n",
       "\n",
       "    .dataframe tbody tr th {\n",
       "        vertical-align: top;\n",
       "    }\n",
       "\n",
       "    .dataframe thead th {\n",
       "        text-align: right;\n",
       "    }\n",
       "</style>\n",
       "<table border=\"1\" class=\"dataframe\">\n",
       "  <thead>\n",
       "    <tr style=\"text-align: right;\">\n",
       "      <th></th>\n",
       "      <th>session_id</th>\n",
       "      <th>client_id</th>\n",
       "      <th>visit_date</th>\n",
       "      <th>visit_time</th>\n",
       "      <th>visit_number</th>\n",
       "      <th>utm_source</th>\n",
       "      <th>utm_medium</th>\n",
       "      <th>utm_campaign</th>\n",
       "      <th>utm_adcontent</th>\n",
       "      <th>device_category</th>\n",
       "      <th>device_brand</th>\n",
       "      <th>device_screen_resolution</th>\n",
       "      <th>device_browser</th>\n",
       "      <th>geo_country</th>\n",
       "      <th>geo_city</th>\n",
       "    </tr>\n",
       "  </thead>\n",
       "  <tbody>\n",
       "    <tr>\n",
       "      <th>0</th>\n",
       "      <td>9055434745589932991.1637753792.1637753792</td>\n",
       "      <td>2108382700.163776</td>\n",
       "      <td>2021-11-24</td>\n",
       "      <td>14:36:32</td>\n",
       "      <td>1</td>\n",
       "      <td>ZpYIoDJMcFzVoPFsHGJL</td>\n",
       "      <td>banner</td>\n",
       "      <td>LEoPHuyFvzoNfnzGgfcd</td>\n",
       "      <td>vCIpmpaGBnIQhyYNkXqp</td>\n",
       "      <td>mobile</td>\n",
       "      <td>Huawei</td>\n",
       "      <td>360x720</td>\n",
       "      <td>Chrome</td>\n",
       "      <td>Russia</td>\n",
       "      <td>Zlatoust</td>\n",
       "    </tr>\n",
       "    <tr>\n",
       "      <th>1</th>\n",
       "      <td>905544597018549464.1636867290.1636867290</td>\n",
       "      <td>210838531.163687</td>\n",
       "      <td>2021-11-14</td>\n",
       "      <td>08:21:30</td>\n",
       "      <td>1</td>\n",
       "      <td>MvfHsxITijuriZxsqZqt</td>\n",
       "      <td>cpm</td>\n",
       "      <td>FTjNLDyTrXaWYgZymFkV</td>\n",
       "      <td>xhoenQgDQsgfEPYNPwKO</td>\n",
       "      <td>mobile</td>\n",
       "      <td>Samsung</td>\n",
       "      <td>385x854</td>\n",
       "      <td>Samsung Internet</td>\n",
       "      <td>Russia</td>\n",
       "      <td>Moscow</td>\n",
       "    </tr>\n",
       "    <tr>\n",
       "      <th>2</th>\n",
       "      <td>9055446045651783499.1640648526.1640648526</td>\n",
       "      <td>2108385331.164065</td>\n",
       "      <td>2021-12-28</td>\n",
       "      <td>02:42:06</td>\n",
       "      <td>1</td>\n",
       "      <td>ZpYIoDJMcFzVoPFsHGJL</td>\n",
       "      <td>banner</td>\n",
       "      <td>LEoPHuyFvzoNfnzGgfcd</td>\n",
       "      <td>vCIpmpaGBnIQhyYNkXqp</td>\n",
       "      <td>mobile</td>\n",
       "      <td>Huawei</td>\n",
       "      <td>360x720</td>\n",
       "      <td>Chrome</td>\n",
       "      <td>Russia</td>\n",
       "      <td>Krasnoyarsk</td>\n",
       "    </tr>\n",
       "    <tr>\n",
       "      <th>3</th>\n",
       "      <td>9055447046360770272.1622255328.1622255328</td>\n",
       "      <td>2108385564.162225</td>\n",
       "      <td>2021-05-29</td>\n",
       "      <td>05:00:00</td>\n",
       "      <td>1</td>\n",
       "      <td>kjsLglQLzykiRbcDiGcD</td>\n",
       "      <td>cpc</td>\n",
       "      <td>other</td>\n",
       "      <td>NOBKLgtuvqYWkXQHeYWM</td>\n",
       "      <td>mobile</td>\n",
       "      <td>Xiaomi</td>\n",
       "      <td>393x786</td>\n",
       "      <td>Chrome</td>\n",
       "      <td>Russia</td>\n",
       "      <td>Moscow</td>\n",
       "    </tr>\n",
       "    <tr>\n",
       "      <th>4</th>\n",
       "      <td>9055447046360770272.1622255345.1622255345</td>\n",
       "      <td>2108385564.162225</td>\n",
       "      <td>2021-05-29</td>\n",
       "      <td>05:00:00</td>\n",
       "      <td>2</td>\n",
       "      <td>kjsLglQLzykiRbcDiGcD</td>\n",
       "      <td>cpc</td>\n",
       "      <td>other</td>\n",
       "      <td>other</td>\n",
       "      <td>mobile</td>\n",
       "      <td>Xiaomi</td>\n",
       "      <td>393x786</td>\n",
       "      <td>Chrome</td>\n",
       "      <td>Russia</td>\n",
       "      <td>Moscow</td>\n",
       "    </tr>\n",
       "  </tbody>\n",
       "</table>\n",
       "</div>"
      ],
      "text/plain": [
       "                                  session_id          client_id  visit_date  \\\n",
       "0  9055434745589932991.1637753792.1637753792  2108382700.163776  2021-11-24   \n",
       "1   905544597018549464.1636867290.1636867290   210838531.163687  2021-11-14   \n",
       "2  9055446045651783499.1640648526.1640648526  2108385331.164065  2021-12-28   \n",
       "3  9055447046360770272.1622255328.1622255328  2108385564.162225  2021-05-29   \n",
       "4  9055447046360770272.1622255345.1622255345  2108385564.162225  2021-05-29   \n",
       "\n",
       "  visit_time  visit_number            utm_source utm_medium  \\\n",
       "0   14:36:32             1  ZpYIoDJMcFzVoPFsHGJL     banner   \n",
       "1   08:21:30             1  MvfHsxITijuriZxsqZqt        cpm   \n",
       "2   02:42:06             1  ZpYIoDJMcFzVoPFsHGJL     banner   \n",
       "3   05:00:00             1  kjsLglQLzykiRbcDiGcD        cpc   \n",
       "4   05:00:00             2  kjsLglQLzykiRbcDiGcD        cpc   \n",
       "\n",
       "           utm_campaign         utm_adcontent device_category device_brand  \\\n",
       "0  LEoPHuyFvzoNfnzGgfcd  vCIpmpaGBnIQhyYNkXqp          mobile       Huawei   \n",
       "1  FTjNLDyTrXaWYgZymFkV  xhoenQgDQsgfEPYNPwKO          mobile      Samsung   \n",
       "2  LEoPHuyFvzoNfnzGgfcd  vCIpmpaGBnIQhyYNkXqp          mobile       Huawei   \n",
       "3                 other  NOBKLgtuvqYWkXQHeYWM          mobile       Xiaomi   \n",
       "4                 other                 other          mobile       Xiaomi   \n",
       "\n",
       "  device_screen_resolution    device_browser geo_country     geo_city  \n",
       "0                  360x720            Chrome      Russia     Zlatoust  \n",
       "1                  385x854  Samsung Internet      Russia       Moscow  \n",
       "2                  360x720            Chrome      Russia  Krasnoyarsk  \n",
       "3                  393x786            Chrome      Russia       Moscow  \n",
       "4                  393x786            Chrome      Russia       Moscow  "
      ]
     },
     "execution_count": 32,
     "metadata": {},
     "output_type": "execute_result"
    }
   ],
   "source": [
    "df_types_sess.head()"
   ]
  },
  {
   "cell_type": "code",
   "execution_count": 33,
   "id": "22ff9543",
   "metadata": {},
   "outputs": [],
   "source": [
    "df_types_sess['visit_number'] = df_types_sess['visit_number'].astype('int64')"
   ]
  },
  {
   "cell_type": "code",
   "execution_count": 34,
   "id": "3bbedf03",
   "metadata": {},
   "outputs": [],
   "source": [
    "df_types_sess.visit_date = pd.to_datetime(df_types_sess.visit_date)"
   ]
  },
  {
   "cell_type": "code",
   "execution_count": 35,
   "id": "29a3a16a",
   "metadata": {},
   "outputs": [],
   "source": [
    "df_types_sess.visit_time = df_types_sess.visit_time.apply(lambda x: datetime.strptime(x, '%H:%M:%S').time())"
   ]
  },
  {
   "cell_type": "code",
   "execution_count": 36,
   "id": "634d94b7",
   "metadata": {},
   "outputs": [
    {
     "data": {
      "text/plain": [
       "['session_id',\n",
       " 'client_id',\n",
       " 'visit_time',\n",
       " 'utm_source',\n",
       " 'utm_medium',\n",
       " 'utm_campaign',\n",
       " 'utm_adcontent',\n",
       " 'device_category',\n",
       " 'device_brand',\n",
       " 'device_screen_resolution',\n",
       " 'device_browser',\n",
       " 'geo_country',\n",
       " 'geo_city']"
      ]
     },
     "execution_count": 36,
     "metadata": {},
     "output_type": "execute_result"
    }
   ],
   "source": [
    "obj_types = df_types_sess.dtypes[df_types_sess.dtypes == 'object'].index.to_list()\n",
    "obj_types"
   ]
  },
  {
   "cell_type": "code",
   "execution_count": 37,
   "id": "5174a4e6",
   "metadata": {},
   "outputs": [],
   "source": [
    "df_types_sess[obj_types] = df_types_sess[obj_types].astype('str')"
   ]
  },
  {
   "cell_type": "code",
   "execution_count": 38,
   "id": "00923c98",
   "metadata": {},
   "outputs": [
    {
     "data": {
      "text/plain": [
       "session_id                          object\n",
       "client_id                           object\n",
       "visit_date                  datetime64[ns]\n",
       "visit_time                          object\n",
       "visit_number                         int64\n",
       "utm_source                          object\n",
       "utm_medium                          object\n",
       "utm_campaign                        object\n",
       "utm_adcontent                       object\n",
       "device_category                     object\n",
       "device_brand                        object\n",
       "device_screen_resolution            object\n",
       "device_browser                      object\n",
       "geo_country                         object\n",
       "geo_city                            object\n",
       "dtype: object"
      ]
     },
     "execution_count": 38,
     "metadata": {},
     "output_type": "execute_result"
    }
   ],
   "source": [
    "df_types_sess.dtypes"
   ]
  },
  {
   "cell_type": "markdown",
   "id": "f81cc778",
   "metadata": {},
   "source": [
    "### 1.4 Исследование на дубликаты"
   ]
  },
  {
   "cell_type": "code",
   "execution_count": 39,
   "id": "5d5a8639",
   "metadata": {
    "scrolled": true
   },
   "outputs": [
    {
     "name": "stdout",
     "output_type": "stream",
     "text": [
      "Количество дубликатов в датасете: 0\n"
     ]
    }
   ],
   "source": [
    "print(f'Количество дубликатов в датасете: {df_sessions.duplicated().sum()}')"
   ]
  },
  {
   "cell_type": "markdown",
   "id": "83e1a5d1",
   "metadata": {},
   "source": [
    "### 1.5 Сохранение в csv"
   ]
  },
  {
   "cell_type": "code",
   "execution_count": 40,
   "id": "cef1ac3f",
   "metadata": {},
   "outputs": [],
   "source": [
    "df_types_sess.to_csv('/home/slawilja/PycharmProjects/final_work/data/prep_data/ga_sessions_prep.csv', index=False)"
   ]
  },
  {
   "cell_type": "markdown",
   "id": "0ee34645",
   "metadata": {},
   "source": [
    "## 2. Обработка df_hits"
   ]
  },
  {
   "cell_type": "code",
   "execution_count": 41,
   "id": "322468dc",
   "metadata": {},
   "outputs": [
    {
     "name": "stdout",
     "output_type": "stream",
     "text": [
      "(15726470, 11)\n"
     ]
    },
    {
     "data": {
      "text/html": [
       "<div>\n",
       "<style scoped>\n",
       "    .dataframe tbody tr th:only-of-type {\n",
       "        vertical-align: middle;\n",
       "    }\n",
       "\n",
       "    .dataframe tbody tr th {\n",
       "        vertical-align: top;\n",
       "    }\n",
       "\n",
       "    .dataframe thead th {\n",
       "        text-align: right;\n",
       "    }\n",
       "</style>\n",
       "<table border=\"1\" class=\"dataframe\">\n",
       "  <thead>\n",
       "    <tr style=\"text-align: right;\">\n",
       "      <th></th>\n",
       "      <th>session_id</th>\n",
       "      <th>hit_date</th>\n",
       "      <th>hit_time</th>\n",
       "      <th>hit_number</th>\n",
       "      <th>hit_type</th>\n",
       "      <th>hit_referer</th>\n",
       "      <th>hit_page_path</th>\n",
       "      <th>event_category</th>\n",
       "      <th>event_action</th>\n",
       "      <th>event_label</th>\n",
       "      <th>event_value</th>\n",
       "    </tr>\n",
       "  </thead>\n",
       "  <tbody>\n",
       "    <tr>\n",
       "      <th>0</th>\n",
       "      <td>5639623078712724064.1640254056.1640254056</td>\n",
       "      <td>2021-12-23</td>\n",
       "      <td>597864.0</td>\n",
       "      <td>30</td>\n",
       "      <td>event</td>\n",
       "      <td>NaN</td>\n",
       "      <td>sberauto.com/cars?utm_source_initial=google&amp;ut...</td>\n",
       "      <td>quiz</td>\n",
       "      <td>quiz_show</td>\n",
       "      <td>NaN</td>\n",
       "      <td>NaN</td>\n",
       "    </tr>\n",
       "    <tr>\n",
       "      <th>1</th>\n",
       "      <td>7750352294969115059.1640271109.1640271109</td>\n",
       "      <td>2021-12-23</td>\n",
       "      <td>597331.0</td>\n",
       "      <td>41</td>\n",
       "      <td>event</td>\n",
       "      <td>NaN</td>\n",
       "      <td>sberauto.com/cars/fiat?city=1&amp;city=18&amp;rental_c...</td>\n",
       "      <td>quiz</td>\n",
       "      <td>quiz_show</td>\n",
       "      <td>NaN</td>\n",
       "      <td>NaN</td>\n",
       "    </tr>\n",
       "    <tr>\n",
       "      <th>2</th>\n",
       "      <td>885342191847998240.1640235807.1640235807</td>\n",
       "      <td>2021-12-23</td>\n",
       "      <td>796252.0</td>\n",
       "      <td>49</td>\n",
       "      <td>event</td>\n",
       "      <td>NaN</td>\n",
       "      <td>sberauto.com/cars/all/volkswagen/polo/e994838f...</td>\n",
       "      <td>quiz</td>\n",
       "      <td>quiz_show</td>\n",
       "      <td>NaN</td>\n",
       "      <td>NaN</td>\n",
       "    </tr>\n",
       "    <tr>\n",
       "      <th>3</th>\n",
       "      <td>142526202120934167.1640211014.1640211014</td>\n",
       "      <td>2021-12-23</td>\n",
       "      <td>934292.0</td>\n",
       "      <td>46</td>\n",
       "      <td>event</td>\n",
       "      <td>NaN</td>\n",
       "      <td>sberauto.com/cars?utm_source_initial=yandex&amp;ut...</td>\n",
       "      <td>quiz</td>\n",
       "      <td>quiz_show</td>\n",
       "      <td>NaN</td>\n",
       "      <td>NaN</td>\n",
       "    </tr>\n",
       "    <tr>\n",
       "      <th>4</th>\n",
       "      <td>3450086108837475701.1640265078.1640265078</td>\n",
       "      <td>2021-12-23</td>\n",
       "      <td>768741.0</td>\n",
       "      <td>79</td>\n",
       "      <td>event</td>\n",
       "      <td>NaN</td>\n",
       "      <td>sberauto.com/cars/all/mercedes-benz/cla-klasse...</td>\n",
       "      <td>quiz</td>\n",
       "      <td>quiz_show</td>\n",
       "      <td>NaN</td>\n",
       "      <td>NaN</td>\n",
       "    </tr>\n",
       "  </tbody>\n",
       "</table>\n",
       "</div>"
      ],
      "text/plain": [
       "                                  session_id    hit_date  hit_time  \\\n",
       "0  5639623078712724064.1640254056.1640254056  2021-12-23  597864.0   \n",
       "1  7750352294969115059.1640271109.1640271109  2021-12-23  597331.0   \n",
       "2   885342191847998240.1640235807.1640235807  2021-12-23  796252.0   \n",
       "3   142526202120934167.1640211014.1640211014  2021-12-23  934292.0   \n",
       "4  3450086108837475701.1640265078.1640265078  2021-12-23  768741.0   \n",
       "\n",
       "   hit_number hit_type hit_referer  \\\n",
       "0          30    event         NaN   \n",
       "1          41    event         NaN   \n",
       "2          49    event         NaN   \n",
       "3          46    event         NaN   \n",
       "4          79    event         NaN   \n",
       "\n",
       "                                       hit_page_path event_category  \\\n",
       "0  sberauto.com/cars?utm_source_initial=google&ut...           quiz   \n",
       "1  sberauto.com/cars/fiat?city=1&city=18&rental_c...           quiz   \n",
       "2  sberauto.com/cars/all/volkswagen/polo/e994838f...           quiz   \n",
       "3  sberauto.com/cars?utm_source_initial=yandex&ut...           quiz   \n",
       "4  sberauto.com/cars/all/mercedes-benz/cla-klasse...           quiz   \n",
       "\n",
       "  event_action event_label  event_value  \n",
       "0    quiz_show         NaN          NaN  \n",
       "1    quiz_show         NaN          NaN  \n",
       "2    quiz_show         NaN          NaN  \n",
       "3    quiz_show         NaN          NaN  \n",
       "4    quiz_show         NaN          NaN  "
      ]
     },
     "execution_count": 41,
     "metadata": {},
     "output_type": "execute_result"
    }
   ],
   "source": [
    "df_hits = pd.read_csv('/home/slawilja/PycharmProjects/final_work/data/main_data/ga_hits.csv')\n",
    "print(df_hits.shape)\n",
    "df_hits.head()"
   ]
  },
  {
   "cell_type": "markdown",
   "id": "1ba1c0c2",
   "metadata": {},
   "source": [
    "### 2.1 Исследование на пропуски"
   ]
  },
  {
   "cell_type": "markdown",
   "id": "f3499812",
   "metadata": {},
   "source": [
    "#### 2.1.1 Начало исследования"
   ]
  },
  {
   "cell_type": "code",
   "execution_count": 42,
   "id": "355e0ad3",
   "metadata": {
    "scrolled": true
   },
   "outputs": [
    {
     "data": {
      "text/plain": [
       "event_value       100.000000\n",
       "hit_time           58.247795\n",
       "hit_referer        39.899634\n",
       "event_label        23.909905\n",
       "session_id          0.000000\n",
       "hit_date            0.000000\n",
       "hit_number          0.000000\n",
       "hit_type            0.000000\n",
       "hit_page_path       0.000000\n",
       "event_category      0.000000\n",
       "event_action        0.000000\n",
       "dtype: float64"
      ]
     },
     "execution_count": 42,
     "metadata": {},
     "output_type": "execute_result"
    }
   ],
   "source": [
    "miss_values = missing_values(df_hits)\n",
    "miss_values"
   ]
  },
  {
   "cell_type": "markdown",
   "id": "1d075610",
   "metadata": {},
   "source": [
    "#### 2.1.2 Удаление признаков с пропусками > 20%"
   ]
  },
  {
   "cell_type": "code",
   "execution_count": 43,
   "id": "2a189e5d",
   "metadata": {},
   "outputs": [
    {
     "data": {
      "text/plain": [
       "['event_value', 'hit_time', 'hit_referer', 'event_label']"
      ]
     },
     "execution_count": 43,
     "metadata": {},
     "output_type": "execute_result"
    }
   ],
   "source": [
    "columns_for_drop = miss_values[miss_values > 20].index.to_list()\n",
    "columns_for_drop"
   ]
  },
  {
   "cell_type": "code",
   "execution_count": 44,
   "id": "f9421255",
   "metadata": {},
   "outputs": [],
   "source": [
    "df_clean_hits = df_hits.copy()"
   ]
  },
  {
   "cell_type": "code",
   "execution_count": 45,
   "id": "7a7b302a",
   "metadata": {},
   "outputs": [
    {
     "data": {
      "text/plain": [
       "(15726470, 7)"
      ]
     },
     "execution_count": 45,
     "metadata": {},
     "output_type": "execute_result"
    }
   ],
   "source": [
    "df_clean_hits = df_clean_hits.drop(columns = columns_for_drop)\n",
    "df_clean_hits.shape"
   ]
  },
  {
   "cell_type": "markdown",
   "id": "5c13a7e2",
   "metadata": {},
   "source": [
    "#### 2.1.3 Итог"
   ]
  },
  {
   "cell_type": "code",
   "execution_count": 46,
   "id": "f97d923a",
   "metadata": {},
   "outputs": [
    {
     "name": "stdout",
     "output_type": "stream",
     "text": [
      "Количество полностью заполненных объектов из всей выборки: 15726470\n",
      "Процент полностью заполненных объектов из всей выборки: 100.0\n"
     ]
    }
   ],
   "source": [
    "print_useful_rows_info(df_clean_hits)"
   ]
  },
  {
   "cell_type": "code",
   "execution_count": 47,
   "id": "418e6b1f",
   "metadata": {},
   "outputs": [
    {
     "data": {
      "text/plain": [
       "session_id        0.0\n",
       "hit_date          0.0\n",
       "hit_number        0.0\n",
       "hit_type          0.0\n",
       "hit_page_path     0.0\n",
       "event_category    0.0\n",
       "event_action      0.0\n",
       "dtype: float64"
      ]
     },
     "execution_count": 47,
     "metadata": {},
     "output_type": "execute_result"
    }
   ],
   "source": [
    "mis_val_clean = missing_values(df_clean_hits)\n",
    "mis_val_clean"
   ]
  },
  {
   "cell_type": "markdown",
   "id": "4298e926",
   "metadata": {},
   "source": [
    "### 2.2 Поиск неинформативных признаков"
   ]
  },
  {
   "cell_type": "code",
   "execution_count": 48,
   "id": "69b8ddbe",
   "metadata": {},
   "outputs": [
    {
     "name": "stdout",
     "output_type": "stream",
     "text": [
      "Количество уникальных значений признака session_id: 1734610\n",
      "Количество уникальных значений признака hit_date: 226\n",
      "Количество уникальных значений признака hit_number: 500\n",
      "Количество уникальных значений признака hit_type: 1\n",
      "Количество уникальных значений признака hit_page_path: 342715\n",
      "Количество уникальных значений признака event_category: 52\n",
      "Количество уникальных значений признака event_action: 230\n",
      "\n",
      "Колонки с единственным значением: ['hit_type']\n"
     ]
    }
   ],
   "source": [
    "uniq_col = []\n",
    "for i in df_clean_hits.columns:\n",
    "    print(f'Количество уникальных значений признака {i}: {df_clean_hits[i].nunique()}')\n",
    "    if df_clean_hits[i].nunique() == 1:\n",
    "        uniq_col.append(i)\n",
    "\n",
    "print(f'\\nКолонки с единственным значением: {uniq_col}')"
   ]
  },
  {
   "cell_type": "code",
   "execution_count": 49,
   "id": "d85f162d",
   "metadata": {},
   "outputs": [
    {
     "name": "stdout",
     "output_type": "stream",
     "text": [
      "Удаляем колонки ['hit_type']\n"
     ]
    }
   ],
   "source": [
    "if len(uniq_col) == 0:\n",
    "    print('В датасете нет неинформативных признаков.')\n",
    "else:\n",
    "    print(f'Удаляем колонки {uniq_col}')\n",
    "    df_clean_hits = df_clean_hits.drop(columns = uniq_col)"
   ]
  },
  {
   "cell_type": "code",
   "execution_count": 50,
   "id": "23543b49",
   "metadata": {},
   "outputs": [
    {
     "data": {
      "text/plain": [
       "(15726470, 6)"
      ]
     },
     "execution_count": 50,
     "metadata": {},
     "output_type": "execute_result"
    }
   ],
   "source": [
    "df_clean_hits.shape"
   ]
  },
  {
   "cell_type": "markdown",
   "id": "79cc78c1",
   "metadata": {},
   "source": [
    "### 2.3 Приведение типов"
   ]
  },
  {
   "cell_type": "code",
   "execution_count": 51,
   "id": "9b5ba266",
   "metadata": {},
   "outputs": [],
   "source": [
    "df_types_hits = df_clean_hits.copy()"
   ]
  },
  {
   "cell_type": "code",
   "execution_count": 52,
   "id": "f2efa560",
   "metadata": {},
   "outputs": [
    {
     "data": {
      "text/plain": [
       "session_id        object\n",
       "hit_date          object\n",
       "hit_number         int64\n",
       "hit_page_path     object\n",
       "event_category    object\n",
       "event_action      object\n",
       "dtype: object"
      ]
     },
     "execution_count": 52,
     "metadata": {},
     "output_type": "execute_result"
    }
   ],
   "source": [
    "df_types_hits.dtypes"
   ]
  },
  {
   "cell_type": "code",
   "execution_count": 53,
   "id": "eff0349f",
   "metadata": {},
   "outputs": [
    {
     "data": {
      "text/html": [
       "<div>\n",
       "<style scoped>\n",
       "    .dataframe tbody tr th:only-of-type {\n",
       "        vertical-align: middle;\n",
       "    }\n",
       "\n",
       "    .dataframe tbody tr th {\n",
       "        vertical-align: top;\n",
       "    }\n",
       "\n",
       "    .dataframe thead th {\n",
       "        text-align: right;\n",
       "    }\n",
       "</style>\n",
       "<table border=\"1\" class=\"dataframe\">\n",
       "  <thead>\n",
       "    <tr style=\"text-align: right;\">\n",
       "      <th></th>\n",
       "      <th>session_id</th>\n",
       "      <th>hit_date</th>\n",
       "      <th>hit_number</th>\n",
       "      <th>hit_page_path</th>\n",
       "      <th>event_category</th>\n",
       "      <th>event_action</th>\n",
       "    </tr>\n",
       "  </thead>\n",
       "  <tbody>\n",
       "    <tr>\n",
       "      <th>0</th>\n",
       "      <td>5639623078712724064.1640254056.1640254056</td>\n",
       "      <td>2021-12-23</td>\n",
       "      <td>30</td>\n",
       "      <td>sberauto.com/cars?utm_source_initial=google&amp;ut...</td>\n",
       "      <td>quiz</td>\n",
       "      <td>quiz_show</td>\n",
       "    </tr>\n",
       "    <tr>\n",
       "      <th>1</th>\n",
       "      <td>7750352294969115059.1640271109.1640271109</td>\n",
       "      <td>2021-12-23</td>\n",
       "      <td>41</td>\n",
       "      <td>sberauto.com/cars/fiat?city=1&amp;city=18&amp;rental_c...</td>\n",
       "      <td>quiz</td>\n",
       "      <td>quiz_show</td>\n",
       "    </tr>\n",
       "    <tr>\n",
       "      <th>2</th>\n",
       "      <td>885342191847998240.1640235807.1640235807</td>\n",
       "      <td>2021-12-23</td>\n",
       "      <td>49</td>\n",
       "      <td>sberauto.com/cars/all/volkswagen/polo/e994838f...</td>\n",
       "      <td>quiz</td>\n",
       "      <td>quiz_show</td>\n",
       "    </tr>\n",
       "    <tr>\n",
       "      <th>3</th>\n",
       "      <td>142526202120934167.1640211014.1640211014</td>\n",
       "      <td>2021-12-23</td>\n",
       "      <td>46</td>\n",
       "      <td>sberauto.com/cars?utm_source_initial=yandex&amp;ut...</td>\n",
       "      <td>quiz</td>\n",
       "      <td>quiz_show</td>\n",
       "    </tr>\n",
       "    <tr>\n",
       "      <th>4</th>\n",
       "      <td>3450086108837475701.1640265078.1640265078</td>\n",
       "      <td>2021-12-23</td>\n",
       "      <td>79</td>\n",
       "      <td>sberauto.com/cars/all/mercedes-benz/cla-klasse...</td>\n",
       "      <td>quiz</td>\n",
       "      <td>quiz_show</td>\n",
       "    </tr>\n",
       "  </tbody>\n",
       "</table>\n",
       "</div>"
      ],
      "text/plain": [
       "                                  session_id    hit_date  hit_number  \\\n",
       "0  5639623078712724064.1640254056.1640254056  2021-12-23          30   \n",
       "1  7750352294969115059.1640271109.1640271109  2021-12-23          41   \n",
       "2   885342191847998240.1640235807.1640235807  2021-12-23          49   \n",
       "3   142526202120934167.1640211014.1640211014  2021-12-23          46   \n",
       "4  3450086108837475701.1640265078.1640265078  2021-12-23          79   \n",
       "\n",
       "                                       hit_page_path event_category  \\\n",
       "0  sberauto.com/cars?utm_source_initial=google&ut...           quiz   \n",
       "1  sberauto.com/cars/fiat?city=1&city=18&rental_c...           quiz   \n",
       "2  sberauto.com/cars/all/volkswagen/polo/e994838f...           quiz   \n",
       "3  sberauto.com/cars?utm_source_initial=yandex&ut...           quiz   \n",
       "4  sberauto.com/cars/all/mercedes-benz/cla-klasse...           quiz   \n",
       "\n",
       "  event_action  \n",
       "0    quiz_show  \n",
       "1    quiz_show  \n",
       "2    quiz_show  \n",
       "3    quiz_show  \n",
       "4    quiz_show  "
      ]
     },
     "execution_count": 53,
     "metadata": {},
     "output_type": "execute_result"
    }
   ],
   "source": [
    "df_types_hits.head()"
   ]
  },
  {
   "cell_type": "code",
   "execution_count": 54,
   "id": "203891de",
   "metadata": {},
   "outputs": [],
   "source": [
    "df_types_hits['hit_number'] = df_types_hits['hit_number'].astype('int64')"
   ]
  },
  {
   "cell_type": "code",
   "execution_count": 55,
   "id": "b6d7bf5c",
   "metadata": {},
   "outputs": [],
   "source": [
    "df_types_hits.hit_date = pd.to_datetime(df_types_hits.hit_date)"
   ]
  },
  {
   "cell_type": "code",
   "execution_count": 56,
   "id": "4e23f2eb",
   "metadata": {},
   "outputs": [
    {
     "data": {
      "text/plain": [
       "['session_id', 'hit_page_path', 'event_category', 'event_action']"
      ]
     },
     "execution_count": 56,
     "metadata": {},
     "output_type": "execute_result"
    }
   ],
   "source": [
    "obj_types = df_types_hits.dtypes[df_types_hits.dtypes == 'object'].index.to_list()\n",
    "obj_types"
   ]
  },
  {
   "cell_type": "code",
   "execution_count": 57,
   "id": "ecee681a",
   "metadata": {},
   "outputs": [],
   "source": [
    "df_types_hits[obj_types] = df_types_hits[obj_types].astype('str')"
   ]
  },
  {
   "cell_type": "code",
   "execution_count": 58,
   "id": "85ebd06f",
   "metadata": {},
   "outputs": [
    {
     "data": {
      "text/plain": [
       "session_id                object\n",
       "hit_date          datetime64[ns]\n",
       "hit_number                 int64\n",
       "hit_page_path             object\n",
       "event_category            object\n",
       "event_action              object\n",
       "dtype: object"
      ]
     },
     "execution_count": 58,
     "metadata": {},
     "output_type": "execute_result"
    }
   ],
   "source": [
    "df_types_hits.dtypes"
   ]
  },
  {
   "cell_type": "markdown",
   "id": "4ae7d4fc",
   "metadata": {},
   "source": [
    "### 2.4 Исследование на дубликаты"
   ]
  },
  {
   "cell_type": "code",
   "execution_count": 59,
   "id": "038c84c0",
   "metadata": {
    "scrolled": true
   },
   "outputs": [
    {
     "name": "stdout",
     "output_type": "stream",
     "text": [
      "Количество дубликатов в датасете: 225862\n"
     ]
    }
   ],
   "source": [
    "print(f'Количество дубликатов в датасете: {df_types_hits.duplicated().sum()}')"
   ]
  },
  {
   "cell_type": "code",
   "execution_count": 60,
   "id": "d30f0772",
   "metadata": {},
   "outputs": [
    {
     "name": "stdout",
     "output_type": "stream",
     "text": [
      "(15726470, 6)\n",
      "(15500608, 6)\n"
     ]
    }
   ],
   "source": [
    "print(df_types_hits.shape)\n",
    "df_types_hits = df_types_hits.drop_duplicates()\n",
    "print(df_types_hits.shape)"
   ]
  },
  {
   "cell_type": "markdown",
   "id": "8cf59fef",
   "metadata": {},
   "source": [
    "Сохранение в csv"
   ]
  },
  {
   "cell_type": "code",
   "execution_count": 61,
   "id": "73a7cceb",
   "metadata": {},
   "outputs": [],
   "source": [
    "df_types_hits.to_csv('/home/slawilja/PycharmProjects/final_work/data/prep_data/ga_hits_prep.csv', index=False)"
   ]
  }
 ],
 "metadata": {
  "kernelspec": {
   "display_name": "Python 3 (ipykernel)",
   "language": "python",
   "name": "python3"
  },
  "language_info": {
   "codemirror_mode": {
    "name": "ipython",
    "version": 3
   },
   "file_extension": ".py",
   "mimetype": "text/x-python",
   "name": "python",
   "nbconvert_exporter": "python",
   "pygments_lexer": "ipython3",
   "version": "3.9.13"
  }
 },
 "nbformat": 4,
 "nbformat_minor": 5
}
